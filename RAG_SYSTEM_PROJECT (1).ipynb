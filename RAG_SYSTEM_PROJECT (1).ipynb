{
  "nbformat": 4,
  "nbformat_minor": 0,
  "metadata": {
    "colab": {
      "provenance": []
    },
    "kernelspec": {
      "name": "python3",
      "display_name": "Python 3"
    },
    "language_info": {
      "name": "python"
    }
  },
  "cells": [
    {
      "cell_type": "code",
      "execution_count": null,
      "metadata": {
        "id": "8jQSHDi6tKVa",
        "colab": {
          "base_uri": "https://localhost:8080/"
        },
        "outputId": "46902021-f7d7-49e3-8fb3-174d01644661"
      },
      "outputs": [
        {
          "output_type": "stream",
          "name": "stdout",
          "text": [
            "\u001b[?25l   \u001b[90m━━━━━━━━━━━━━━━━━━━━━━━━━━━━━━━━━━━━━━━━\u001b[0m \u001b[32m0.0/41.5 kB\u001b[0m \u001b[31m?\u001b[0m eta \u001b[36m-:--:--\u001b[0m\r\u001b[2K   \u001b[90m━━━━━━━━━━━━━━━━━━━━━━━━━━━━━━━━━━━━━━━━\u001b[0m \u001b[32m41.5/41.5 kB\u001b[0m \u001b[31m1.7 MB/s\u001b[0m eta \u001b[36m0:00:00\u001b[0m\n",
            "\u001b[2K   \u001b[90m━━━━━━━━━━━━━━━━━━━━━━━━━━━━━━━━━━━━━━━━\u001b[0m \u001b[32m1.3/1.3 MB\u001b[0m \u001b[31m15.7 MB/s\u001b[0m eta \u001b[36m0:00:00\u001b[0m\n",
            "\u001b[2K   \u001b[90m━━━━━━━━━━━━━━━━━━━━━━━━━━━━━━━━━━━━━━━━\u001b[0m \u001b[32m427.3/427.3 kB\u001b[0m \u001b[31m18.1 MB/s\u001b[0m eta \u001b[36m0:00:00\u001b[0m\n",
            "\u001b[2K   \u001b[90m━━━━━━━━━━━━━━━━━━━━━━━━━━━━━━━━━━━━━━━━\u001b[0m \u001b[32m87.5/87.5 kB\u001b[0m \u001b[31m2.8 MB/s\u001b[0m eta \u001b[36m0:00:00\u001b[0m\n",
            "\u001b[2K   \u001b[90m━━━━━━━━━━━━━━━━━━━━━━━━━━━━━━━━━━━━━━━━\u001b[0m \u001b[32m50.3/50.3 kB\u001b[0m \u001b[31m2.6 MB/s\u001b[0m eta \u001b[36m0:00:00\u001b[0m\n",
            "\u001b[?25h"
          ]
        }
      ],
      "source": [
        "%pip install -qU langchain-pinecone langchain-google-genai"
      ]
    },
    {
      "cell_type": "code",
      "source": [
        "import os\n",
        "from google.colab import userdata\n",
        "\n",
        "# Fetch your custom API key and assign it to the expected variable name\n",
        "api_key = userdata.get('pinecone')\n",
        "os.environ[\"PINECONE_API_KEY\"] = api_key  # Pinecone needs this exact name\n",
        "\n",
        "# Print for debugging (optional)\n",
        "# print(\"Pinecone API Key:\", os.environ[\"PINECONE_API_KEY\"])\n"
      ],
      "metadata": {
        "id": "GL5dIN4D0k5c"
      },
      "execution_count": null,
      "outputs": []
    },
    {
      "cell_type": "code",
      "source": [
        "from pinecone import Pinecone\n",
        "\n",
        "# Initialize the Pinecone client\n",
        "pc = Pinecone()\n"
      ],
      "metadata": {
        "id": "s89lkf0X238r"
      },
      "execution_count": null,
      "outputs": []
    },
    {
      "cell_type": "code",
      "source": [
        "index_name = \"rag-project-piaci\"\n",
        "\n",
        "# Check if index exists before creating\n",
        "if index_name not in pc.list_indexes().names():\n",
        "    pc.create_index(\n",
        "        name=index_name,\n",
        "        dimension=768,\n",
        "        metric=\"cosine\",\n",
        "        spec=ServerlessSpec(cloud=\"aws\", region=\"us-east-1\")\n",
        "    )\n",
        "    print(f\"Index '{index_name}' created successfully.\")\n",
        "else:\n",
        "    print(f\"Index '{index_name}' already exists.\")\n",
        "\n",
        "# Connect to the index (if it exists or was created)\n",
        "index = pc.Index(index_name) # This line is correct and should work as expected"
      ],
      "metadata": {
        "colab": {
          "base_uri": "https://localhost:8080/"
        },
        "id": "2CkFBX3A49lt",
        "outputId": "e233750b-377a-4196-e1bd-1c56a46a75f8"
      },
      "execution_count": null,
      "outputs": [
        {
          "output_type": "stream",
          "name": "stdout",
          "text": [
            "Index 'rag-project-piaci' already exists.\n"
          ]
        }
      ]
    },
    {
      "cell_type": "code",
      "source": [
        "from langchain_google_genai import GoogleGenerativeAIEmbeddings\n",
        "from google.auth.credentials import AnonymousCredentials # Import AnonymousCredentials\n",
        "import os\n",
        "\n",
        "# Retrieve credentials from userdata\n",
        "credentials = userdata.get('GOOGLE_API_KEY')\n",
        "\n",
        "# Set the environment variable for authentication\n",
        "os.environ['GEMINI_API_KEY'] = credentials\n",
        "\n",
        "# Initialize GoogleGenerativeAIEmbeddings with explicit credentials\n",
        "embeddings = GoogleGenerativeAIEmbeddings(\n",
        "    model=\"models/embedding-001\",\n",
        "    google_api_key=credentials # Pass credentials directly\n",
        ")\n",
        "\n",
        "# Embed the query\n",
        "vector = embeddings.embed_query(\"we are building a RAG Text\")\n",
        "\n",
        "# Print or process the vector as needed\n",
        "print(vector[:5])"
      ],
      "metadata": {
        "colab": {
          "base_uri": "https://localhost:8080/"
        },
        "id": "MFA_Nh_maN-H",
        "outputId": "5b4df7d6-a350-407c-9d2b-861534d86fdf"
      },
      "execution_count": null,
      "outputs": [
        {
          "output_type": "stream",
          "name": "stdout",
          "text": [
            "[0.04060795158147812, -0.04385491460561752, -0.05683692544698715, -0.021194666624069214, 0.010449625551700592]\n"
          ]
        }
      ]
    },
    {
      "source": [
        "from langchain_pinecone import PineconeVectorStore\n",
        "vector_store = PineconeVectorStore(\n",
        "    index=index,\n",
        "    embedding=embeddings\n",
        "    )\n"
      ],
      "cell_type": "code",
      "metadata": {
        "id": "G8CQbshY-8pg"
      },
      "execution_count": null,
      "outputs": []
    },
    {
      "cell_type": "code",
      "source": [
        "from langchain_core.documents import Document\n",
        "from uuid import uuid4\n",
        "documents = [\n",
        "    Document(\n",
        "        page_content=\"Dogs are great companions, known for their loyalty and friendliness.\",\n",
        "        metadata={\"source\": \"mammal-pets-doc\"},\n",
        "    ),\n",
        "    Document(\n",
        "        page_content=\"Cats are independent pets that often enjoy their own space.\",\n",
        "        metadata={\"source\": \"mammal-pets-doc\"},\n",
        "    ),\n",
        "    Document(\n",
        "        page_content=\"Goldfish are popular pets for beginners, requiring relatively simple care.\",\n",
        "        metadata={\"source\": \"fish-pets-doc\"},\n",
        "    ),\n",
        "    Document(\n",
        "        page_content=\"Parrots are intelligent birds capable of mimicking human speech.\",\n",
        "        metadata={\"source\": \"bird-pets-doc\"},\n",
        "    ),\n",
        "    Document(\n",
        "        page_content=\"Rabbits are social animals that need plenty of space to hop around.\",\n",
        "        metadata={\"source\": \"mammal-pets-doc\"},\n",
        "    ),\n",
        "]\n",
        "\n"
      ],
      "metadata": {
        "id": "XP1E7fydY7_T"
      },
      "execution_count": null,
      "outputs": []
    },
    {
      "cell_type": "code",
      "source": [
        "len(documents)"
      ],
      "metadata": {
        "colab": {
          "base_uri": "https://localhost:8080/"
        },
        "id": "ZvSRuSsY9i8I",
        "outputId": "eb1de917-4577-4dec-d5c0-67449ad870a8"
      },
      "execution_count": null,
      "outputs": [
        {
          "output_type": "execute_result",
          "data": {
            "text/plain": [
              "5"
            ]
          },
          "metadata": {},
          "execution_count": 8
        }
      ]
    },
    {
      "cell_type": "code",
      "source": [
        "# user_id = [str(uuid4()) for _ in range(len(documents))]\n",
        "\n",
        "vector_store.add_documents(documents=documents)"
      ],
      "metadata": {
        "id": "tYVtJNYEbHpt",
        "colab": {
          "base_uri": "https://localhost:8080/"
        },
        "outputId": "9fc81340-fe55-471e-9369-dbcf1d968a4e"
      },
      "execution_count": null,
      "outputs": [
        {
          "output_type": "execute_result",
          "data": {
            "text/plain": [
              "['9a5979f7-d725-443a-ae26-21bcf390acb6',\n",
              " '6227cd58-1127-4be9-8048-45abfd8910ae',\n",
              " 'd376eda9-5596-476e-8c98-66970a2fb076',\n",
              " '710f96ba-f3eb-4f8d-ad7b-759179b4db43',\n",
              " '25646e1b-ebc3-496a-b248-180095f49ad7']"
            ]
          },
          "metadata": {},
          "execution_count": 9
        }
      ]
    },
    {
      "cell_type": "code",
      "source": [
        "# data retrive\n",
        "results = vector_store.similarity_search_with_score(\n",
        "    \"What factors are considered when generating recommendations for users ?\",)\n",
        "results\n",
        "# for result,score in results:\n",
        "#   print(result,score)\n",
        "  # print(result,similarity_search_with_score)\n",
        "# results\n",
        "# results = [1,[3, 5, 7, 2, 8, 10, 1]]\n",
        "# highest = results[1][1]\n",
        "# # highest\n",
        "# for result in range(len(results)):\n",
        "#   print(results[result][1])\n",
        "#   if results[result][1] > highest:\n",
        "#     highest = results[result][1]\n",
        "# highest\n",
        "\n",
        "#     if results[1][1] > highest:\n",
        "#         highest = result\n",
        "# highest\n"
      ],
      "metadata": {
        "colab": {
          "base_uri": "https://localhost:8080/"
        },
        "id": "PfDW2ly8anOh",
        "outputId": "410615f9-a17d-468e-8a2a-e5a834ee9570"
      },
      "execution_count": null,
      "outputs": [
        {
          "output_type": "execute_result",
          "data": {
            "text/plain": [
              "[(Document(id='1a56dbc2-e082-4b31-9e18-39c9d8be7e62', metadata={'source': 'mammal-pets-doc'}, page_content='Rabbits are social animals that need plenty of space to hop around.'),\n",
              "  0.498711109),\n",
              " (Document(id='dd86794c-b2f6-4e85-8c7e-2c8d104c91d1', metadata={'source': 'mammal-pets-doc'}, page_content='Rabbits are social animals that need plenty of space to hop around.'),\n",
              "  0.498711109),\n",
              " (Document(id='14bd5577-7725-4884-862c-75ba57873fd2', metadata={'source': 'mammal-pets-doc'}, page_content='Rabbits are social animals that need plenty of space to hop around.'),\n",
              "  0.498598814),\n",
              " (Document(id='128beb81-548d-4a39-baea-e1c9f0a33ed5', metadata={'source': 'mammal-pets-doc'}, page_content='Dogs are great companions, known for their loyalty and friendliness.'),\n",
              "  0.493423373)]"
            ]
          },
          "metadata": {},
          "execution_count": 10
        }
      ]
    }
  ]
}